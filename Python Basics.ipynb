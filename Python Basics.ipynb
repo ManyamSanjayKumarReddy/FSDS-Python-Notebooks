{
 "cells": [
  {
   "cell_type": "code",
   "execution_count": 1,
   "id": "6c897fb3",
   "metadata": {},
   "outputs": [
    {
     "name": "stdout",
     "output_type": "stream",
     "text": [
      "Hello Neurons\n"
     ]
    }
   ],
   "source": [
    "print('Hello Neurons')"
   ]
  },
  {
   "cell_type": "code",
   "execution_count": 3,
   "id": "9d2df809",
   "metadata": {},
   "outputs": [
    {
     "name": "stdout",
     "output_type": "stream",
     "text": [
      "Greetings from iNeuron\n",
      "Good Evening\n"
     ]
    }
   ],
   "source": [
    "print('Greetings from iNeuron')\n",
    "print('Good Evening')"
   ]
  },
  {
   "cell_type": "code",
   "execution_count": 9,
   "id": "3315dd21",
   "metadata": {},
   "outputs": [
    {
     "ename": "SyntaxError",
     "evalue": "EOL while scanning string literal (2672565809.py, line 2)",
     "output_type": "error",
     "traceback": [
      "\u001b[1;36m  Input \u001b[1;32mIn [9]\u001b[1;36m\u001b[0m\n\u001b[1;33m    print('Good\u001b[0m\n\u001b[1;37m               ^\u001b[0m\n\u001b[1;31mSyntaxError\u001b[0m\u001b[1;31m:\u001b[0m EOL while scanning string literal\n"
     ]
    }
   ],
   "source": [
    "#End of line error\n",
    "print('Good\n",
    "      Evenung')"
   ]
  },
  {
   "cell_type": "code",
   "execution_count": 10,
   "id": "76134154",
   "metadata": {},
   "outputs": [
    {
     "data": {
      "text/plain": [
       "'Good Morning'"
      ]
     },
     "execution_count": 10,
     "metadata": {},
     "output_type": "execute_result"
    }
   ],
   "source": [
    "'Good Morning'"
   ]
  },
  {
   "cell_type": "code",
   "execution_count": 12,
   "id": "2054ee80",
   "metadata": {},
   "outputs": [
    {
     "name": "stdout",
     "output_type": "stream",
     "text": [
      "Good\n",
      "      Evening\n"
     ]
    }
   ],
   "source": [
    "# Multi Line Comment\n",
    "print(\"\"\"Good\n",
    "      Evening\"\"\")"
   ]
  },
  {
   "cell_type": "code",
   "execution_count": 14,
   "id": "75ff752f",
   "metadata": {},
   "outputs": [
    {
     "name": "stdout",
     "output_type": "stream",
     "text": [
      "\n",
      "Lorem Ipsum is simply dummy text of the \n",
      "printing and typesetting industry. Lorem \n",
      "Ipsum has been the industry's standard \n",
      "dummy text ever since the 1500s, when an \n",
      "unknown printer took a galley of type and\n",
      "scrambled it to make a type specimen book. \n",
      "It has survived not only five centuries, \n",
      "but also the leap into electronic \n",
      "typesetting, remaining essentially \n",
      "unchanged. It was popularised in \n",
      "the 1960s with the release of \n",
      "Letraset sheets containing Lorem \n",
      "Ipsum passages, and more recently\n",
      "with desktop publishing software \n",
      "like Aldus PageMaker including versions of \n",
      "Lorem Ipsum\n",
      "\n",
      "\n"
     ]
    }
   ],
   "source": [
    "print(\"\"\"\n",
    "Lorem Ipsum is simply dummy text of the \n",
    "printing and typesetting industry. Lorem \n",
    "Ipsum has been the industry's standard \n",
    "dummy text ever since the 1500s, when an \n",
    "unknown printer took a galley of type and\n",
    "scrambled it to make a type specimen book. \n",
    "It has survived not only five centuries, \n",
    "but also the leap into electronic \n",
    "typesetting, remaining essentially \n",
    "unchanged. It was popularised in \n",
    "the 1960s with the release of \n",
    "Letraset sheets containing Lorem \n",
    "Ipsum passages, and more recently\n",
    "with desktop publishing software \n",
    "like Aldus PageMaker including versions of \n",
    "Lorem Ipsum\n",
    "\n",
    "\"\"\")"
   ]
  },
  {
   "cell_type": "markdown",
   "id": "871afb0f",
   "metadata": {},
   "source": [
    "**Comments  -- simply explains about the below peice of the code**"
   ]
  },
  {
   "cell_type": "code",
   "execution_count": 15,
   "id": "5e99b0b9",
   "metadata": {},
   "outputs": [
    {
     "name": "stdout",
     "output_type": "stream",
     "text": [
      "Hi Students\n"
     ]
    }
   ],
   "source": [
    "# Say hello to students\n",
    "print('Hi Students')"
   ]
  },
  {
   "cell_type": "code",
   "execution_count": 17,
   "id": "edf48fa9",
   "metadata": {},
   "outputs": [
    {
     "name": "stdout",
     "output_type": "stream",
     "text": [
      "Hi Students\n"
     ]
    }
   ],
   "source": [
    "# Print multiline comments \n",
    "\"\"\"\n",
    "Say Hi\n",
    "To the Students \n",
    "\n",
    "\"\"\"\n",
    "print('Hi Students')"
   ]
  },
  {
   "cell_type": "code",
   "execution_count": 22,
   "id": "471364b8",
   "metadata": {},
   "outputs": [
    {
     "name": "stdout",
     "output_type": "stream",
     "text": [
      "My Name is 'Sanju'!\n"
     ]
    }
   ],
   "source": [
    "print(\"My Name is 'Sanju'!\")"
   ]
  },
  {
   "cell_type": "markdown",
   "id": "59c758a3",
   "metadata": {},
   "source": [
    " We can use escape charcter also like keeping /\"sanju\"/ and this is an ODD way so use triple quotes"
   ]
  },
  {
   "cell_type": "code",
   "execution_count": 27,
   "id": "008430ad",
   "metadata": {},
   "outputs": [
    {
     "data": {
      "text/plain": [
       "368"
      ]
     },
     "execution_count": 27,
     "metadata": {},
     "output_type": "execute_result"
    }
   ],
   "source": [
    "# Sum of 2 numbers\n",
    "123 + 245"
   ]
  },
  {
   "cell_type": "code",
   "execution_count": 26,
   "id": "53ca8726",
   "metadata": {},
   "outputs": [
    {
     "data": {
      "text/plain": [
       "24546795"
      ]
     },
     "execution_count": 26,
     "metadata": {},
     "output_type": "execute_result"
    }
   ],
   "source": [
    "2569*9555  # Multiplication of 2 numbers"
   ]
  },
  {
   "cell_type": "code",
   "execution_count": 32,
   "id": "f7344ad2",
   "metadata": {},
   "outputs": [
    {
     "data": {
      "text/plain": [
       "15129"
      ]
     },
     "execution_count": 32,
     "metadata": {},
     "output_type": "execute_result"
    }
   ],
   "source": [
    "123**2 # power of 123 raised to 2"
   ]
  },
  {
   "cell_type": "code",
   "execution_count": 33,
   "id": "2907d7c8",
   "metadata": {},
   "outputs": [
    {
     "data": {
      "text/plain": [
       "121"
      ]
     },
     "execution_count": 33,
     "metadata": {},
     "output_type": "execute_result"
    }
   ],
   "source": [
    "123^2"
   ]
  },
  {
   "cell_type": "code",
   "execution_count": 35,
   "id": "6e717f00",
   "metadata": {},
   "outputs": [
    {
     "data": {
      "text/plain": [
       "1"
      ]
     },
     "execution_count": 35,
     "metadata": {},
     "output_type": "execute_result"
    }
   ],
   "source": [
    "123 % 2  # modulo operator gives the remaninder "
   ]
  },
  {
   "cell_type": "code",
   "execution_count": 36,
   "id": "18e53976",
   "metadata": {},
   "outputs": [
    {
     "data": {
      "text/plain": [
       "2.0"
      ]
     },
     "execution_count": 36,
     "metadata": {},
     "output_type": "execute_result"
    }
   ],
   "source": [
    "4 / 2 # quotient of the given operation"
   ]
  },
  {
   "cell_type": "markdown",
   "id": "d448e218",
   "metadata": {},
   "source": [
    "**Variables in Python**"
   ]
  },
  {
   "cell_type": "code",
   "execution_count": 38,
   "id": "3c33cf57",
   "metadata": {},
   "outputs": [],
   "source": [
    "x = 10"
   ]
  },
  {
   "cell_type": "code",
   "execution_count": 40,
   "id": "5666cebf",
   "metadata": {},
   "outputs": [
    {
     "name": "stdout",
     "output_type": "stream",
     "text": [
      "10\n"
     ]
    }
   ],
   "source": [
    "print(x)"
   ]
  },
  {
   "cell_type": "code",
   "execution_count": 41,
   "id": "6daa2abe",
   "metadata": {},
   "outputs": [],
   "source": [
    "y = 20"
   ]
  },
  {
   "cell_type": "code",
   "execution_count": 42,
   "id": "fd76273e",
   "metadata": {},
   "outputs": [
    {
     "name": "stdout",
     "output_type": "stream",
     "text": [
      "20\n"
     ]
    }
   ],
   "source": [
    "print(y)"
   ]
  },
  {
   "cell_type": "code",
   "execution_count": 43,
   "id": "9e2ca7be",
   "metadata": {},
   "outputs": [
    {
     "name": "stdout",
     "output_type": "stream",
     "text": [
      "30\n"
     ]
    }
   ],
   "source": [
    "print(x+y)"
   ]
  },
  {
   "cell_type": "markdown",
   "id": "011c8a47",
   "metadata": {},
   "source": [
    "**1. Variable names should start with alphabets**\n",
    "\n",
    "**2. Variable names should not contain any special charaxters like ^ & * # @ ! ( )** \n",
    "\n",
    "**3. Variable names can not start with numbers**\n",
    "\n",
    "**4. Always recommended to start the variable with Capital word**"
   ]
  },
  {
   "cell_type": "code",
   "execution_count": 46,
   "id": "4d08bdba",
   "metadata": {},
   "outputs": [],
   "source": [
    "_ = 20 # dummy variable"
   ]
  },
  {
   "cell_type": "code",
   "execution_count": 47,
   "id": "262cec2e",
   "metadata": {},
   "outputs": [
    {
     "data": {
      "text/plain": [
       "20"
      ]
     },
     "execution_count": 47,
     "metadata": {},
     "output_type": "execute_result"
    }
   ],
   "source": [
    "_"
   ]
  },
  {
   "cell_type": "markdown",
   "id": "b5168d87",
   "metadata": {},
   "source": [
    "**Data Types**"
   ]
  },
  {
   "cell_type": "markdown",
   "id": "20e8fe0f",
   "metadata": {},
   "source": [
    "**Integers**"
   ]
  },
  {
   "cell_type": "code",
   "execution_count": 48,
   "id": "6931efdc",
   "metadata": {},
   "outputs": [],
   "source": [
    "a = 7"
   ]
  },
  {
   "cell_type": "code",
   "execution_count": 49,
   "id": "b32fd282",
   "metadata": {},
   "outputs": [
    {
     "data": {
      "text/plain": [
       "int"
      ]
     },
     "execution_count": 49,
     "metadata": {},
     "output_type": "execute_result"
    }
   ],
   "source": [
    "type(a)"
   ]
  },
  {
   "cell_type": "code",
   "execution_count": 50,
   "id": "975aeb19",
   "metadata": {},
   "outputs": [],
   "source": [
    "b = 77222224"
   ]
  },
  {
   "cell_type": "code",
   "execution_count": 51,
   "id": "3742c112",
   "metadata": {},
   "outputs": [
    {
     "data": {
      "text/plain": [
       "int"
      ]
     },
     "execution_count": 51,
     "metadata": {},
     "output_type": "execute_result"
    }
   ],
   "source": [
    "type(b)"
   ]
  },
  {
   "cell_type": "markdown",
   "id": "0f6e8bff",
   "metadata": {},
   "source": [
    "**Float    -- Numbers containing decimels**"
   ]
  },
  {
   "cell_type": "code",
   "execution_count": 53,
   "id": "cd9316c4",
   "metadata": {},
   "outputs": [],
   "source": [
    "pi = 3.14"
   ]
  },
  {
   "cell_type": "code",
   "execution_count": 54,
   "id": "50a06183",
   "metadata": {},
   "outputs": [
    {
     "data": {
      "text/plain": [
       "float"
      ]
     },
     "execution_count": 54,
     "metadata": {},
     "output_type": "execute_result"
    }
   ],
   "source": [
    "type(pi)"
   ]
  },
  {
   "cell_type": "code",
   "execution_count": 55,
   "id": "0ac4b48e",
   "metadata": {},
   "outputs": [],
   "source": [
    "x = 2.0"
   ]
  },
  {
   "cell_type": "code",
   "execution_count": 56,
   "id": "d2d7347c",
   "metadata": {},
   "outputs": [
    {
     "data": {
      "text/plain": [
       "float"
      ]
     },
     "execution_count": 56,
     "metadata": {},
     "output_type": "execute_result"
    }
   ],
   "source": [
    "type(x)"
   ]
  },
  {
   "cell_type": "code",
   "execution_count": 57,
   "id": "08a7da15",
   "metadata": {},
   "outputs": [],
   "source": [
    "pi = 22/7"
   ]
  },
  {
   "cell_type": "code",
   "execution_count": 58,
   "id": "fcb15371",
   "metadata": {},
   "outputs": [
    {
     "data": {
      "text/plain": [
       "3.142857142857143"
      ]
     },
     "execution_count": 58,
     "metadata": {},
     "output_type": "execute_result"
    }
   ],
   "source": [
    "pi"
   ]
  },
  {
   "cell_type": "code",
   "execution_count": 59,
   "id": "195f2464",
   "metadata": {},
   "outputs": [
    {
     "data": {
      "text/plain": [
       "float"
      ]
     },
     "execution_count": 59,
     "metadata": {},
     "output_type": "execute_result"
    }
   ],
   "source": [
    "type(pi)"
   ]
  },
  {
   "cell_type": "markdown",
   "id": "11e5d4bf",
   "metadata": {},
   "source": [
    "**Complex Numbers**"
   ]
  },
  {
   "cell_type": "code",
   "execution_count": 63,
   "id": "48b3d320",
   "metadata": {},
   "outputs": [],
   "source": [
    "a = 7 + 5j # imaginary number notation"
   ]
  },
  {
   "cell_type": "code",
   "execution_count": 64,
   "id": "feb04721",
   "metadata": {},
   "outputs": [
    {
     "data": {
      "text/plain": [
       "complex"
      ]
     },
     "execution_count": 64,
     "metadata": {},
     "output_type": "execute_result"
    }
   ],
   "source": [
    "type(a)"
   ]
  },
  {
   "cell_type": "code",
   "execution_count": 65,
   "id": "2185f22b",
   "metadata": {},
   "outputs": [
    {
     "data": {
      "text/plain": [
       "7.0"
      ]
     },
     "execution_count": 65,
     "metadata": {},
     "output_type": "execute_result"
    }
   ],
   "source": [
    "a.real"
   ]
  },
  {
   "cell_type": "code",
   "execution_count": 67,
   "id": "8f17d205",
   "metadata": {},
   "outputs": [
    {
     "data": {
      "text/plain": [
       "5.0"
      ]
     },
     "execution_count": 67,
     "metadata": {},
     "output_type": "execute_result"
    }
   ],
   "source": [
    "a.imag"
   ]
  },
  {
   "cell_type": "code",
   "execution_count": 70,
   "id": "73b4e86e",
   "metadata": {},
   "outputs": [],
   "source": [
    "b = a.conjugate"
   ]
  },
  {
   "cell_type": "code",
   "execution_count": 71,
   "id": "b9465b90",
   "metadata": {},
   "outputs": [
    {
     "data": {
      "text/plain": [
       "<function complex.conjugate>"
      ]
     },
     "execution_count": 71,
     "metadata": {},
     "output_type": "execute_result"
    }
   ],
   "source": [
    "b"
   ]
  },
  {
   "cell_type": "markdown",
   "id": "5d7f6ec3",
   "metadata": {},
   "source": [
    "**Dynamic Typing**"
   ]
  },
  {
   "cell_type": "code",
   "execution_count": 75,
   "id": "318c02e0",
   "metadata": {},
   "outputs": [
    {
     "name": "stdout",
     "output_type": "stream",
     "text": [
      "<class 'int'>\n",
      "<class 'float'>\n",
      "<class 'str'>\n"
     ]
    }
   ],
   "source": [
    "a = 22\n",
    "print(type(a))\n",
    "a = 22.22\n",
    "print(type(a))\n",
    "a = \"sunny\"\n",
    "print(type(a))"
   ]
  },
  {
   "cell_type": "code",
   "execution_count": 74,
   "id": "a8d6ecbb",
   "metadata": {},
   "outputs": [
    {
     "data": {
      "text/plain": [
       "22.22"
      ]
     },
     "execution_count": 74,
     "metadata": {},
     "output_type": "execute_result"
    }
   ],
   "source": [
    "a"
   ]
  },
  {
   "cell_type": "markdown",
   "id": "ee9f5288",
   "metadata": {},
   "source": [
    "**Strong Typing**"
   ]
  },
  {
   "cell_type": "code",
   "execution_count": 77,
   "id": "d24849be",
   "metadata": {},
   "outputs": [
    {
     "ename": "TypeError",
     "evalue": "can only concatenate str (not \"int\") to str",
     "output_type": "error",
     "traceback": [
      "\u001b[1;31m---------------------------------------------------------------------------\u001b[0m",
      "\u001b[1;31mTypeError\u001b[0m                                 Traceback (most recent call last)",
      "Input \u001b[1;32mIn [77]\u001b[0m, in \u001b[0;36m<cell line: 1>\u001b[1;34m()\u001b[0m\n\u001b[1;32m----> 1\u001b[0m \u001b[38;5;124;43m'\u001b[39;49m\u001b[38;5;124;43mDay\u001b[39;49m\u001b[38;5;124;43m'\u001b[39;49m\u001b[43m \u001b[49m\u001b[38;5;241;43m+\u001b[39;49m\u001b[43m \u001b[49m\u001b[38;5;241;43m1\u001b[39;49m\n",
      "\u001b[1;31mTypeError\u001b[0m: can only concatenate str (not \"int\") to str"
     ]
    }
   ],
   "source": [
    "'Day' + 1"
   ]
  },
  {
   "cell_type": "code",
   "execution_count": 78,
   "id": "95bf3342",
   "metadata": {},
   "outputs": [
    {
     "data": {
      "text/plain": [
       "'Day1'"
      ]
     },
     "execution_count": 78,
     "metadata": {},
     "output_type": "execute_result"
    }
   ],
   "source": [
    "'Day' + '1'"
   ]
  },
  {
   "cell_type": "code",
   "execution_count": 80,
   "id": "477015ec",
   "metadata": {},
   "outputs": [
    {
     "data": {
      "text/plain": [
       "'2222'"
      ]
     },
     "execution_count": 80,
     "metadata": {},
     "output_type": "execute_result"
    }
   ],
   "source": [
    "'22' + '22'"
   ]
  },
  {
   "cell_type": "code",
   "execution_count": 82,
   "id": "38f330d2",
   "metadata": {},
   "outputs": [
    {
     "data": {
      "text/plain": [
       "'Manyam Sanjay'"
      ]
     },
     "execution_count": 82,
     "metadata": {},
     "output_type": "execute_result"
    }
   ],
   "source": [
    "'Manyam' + ' Sanjay'"
   ]
  },
  {
   "cell_type": "code",
   "execution_count": 83,
   "id": "7c09643c",
   "metadata": {},
   "outputs": [],
   "source": [
    "a = 1 # int data type\n",
    "b = 1.2 # float data type\n",
    "c = 'sunny' # string data type\n",
    "d = 3 + 4j # complex data type "
   ]
  },
  {
   "cell_type": "code",
   "execution_count": 84,
   "id": "ca786855",
   "metadata": {},
   "outputs": [
    {
     "name": "stdout",
     "output_type": "stream",
     "text": [
      "Welcome to class of python Language\n"
     ]
    }
   ],
   "source": [
    "print(\"Welcome to class of python Language\")"
   ]
  },
  {
   "cell_type": "code",
   "execution_count": 88,
   "id": "c91eab63",
   "metadata": {},
   "outputs": [
    {
     "name": "stdout",
     "output_type": "stream",
     "text": [
      "Welcome to the class of React Native Language\n"
     ]
    }
   ],
   "source": [
    "language = 'React Native'\n",
    "print(\"Welcome to the class of \" + language + \" Language\")"
   ]
  },
  {
   "cell_type": "code",
   "execution_count": 93,
   "id": "1b55b81d",
   "metadata": {},
   "outputs": [
    {
     "name": "stdout",
     "output_type": "stream",
     "text": [
      "Hii welcome to the class of Flutter language\n"
     ]
    }
   ],
   "source": [
    "# current standard approach used in python formatted method\n",
    "print(f\"Hii welcome to the class of {language} language\")"
   ]
  },
  {
   "cell_type": "code",
   "execution_count": 92,
   "id": "6a7d10b2",
   "metadata": {},
   "outputs": [
    {
     "name": "stdout",
     "output_type": "stream",
     "text": [
      "Hii Welcome to the class of Flutter language\n"
     ]
    }
   ],
   "source": [
    "# old way\n",
    "language = 'Flutter'\n",
    "print(\"Hii Welcome to the class of {} language\".format(language))"
   ]
  },
  {
   "cell_type": "code",
   "execution_count": 94,
   "id": "84cf0cd6",
   "metadata": {},
   "outputs": [],
   "source": [
    "A = 22\n",
    "B = 34\n",
    "C = A + B"
   ]
  },
  {
   "cell_type": "code",
   "execution_count": 96,
   "id": "08b770b8",
   "metadata": {},
   "outputs": [
    {
     "name": "stdout",
     "output_type": "stream",
     "text": [
      "The result of the two numbers a: 22 and b: 34 is 56\n"
     ]
    }
   ],
   "source": [
    "print(f\"The result of the two numbers a: {A} and b: {B} is {C}\")"
   ]
  },
  {
   "cell_type": "markdown",
   "id": "41758482",
   "metadata": {},
   "source": [
    "**Boolean**"
   ]
  },
  {
   "cell_type": "code",
   "execution_count": 97,
   "id": "af54275d",
   "metadata": {},
   "outputs": [],
   "source": [
    "one = True\n",
    "two = False"
   ]
  },
  {
   "cell_type": "code",
   "execution_count": 98,
   "id": "3c1d6f56",
   "metadata": {},
   "outputs": [
    {
     "data": {
      "text/plain": [
       "bool"
      ]
     },
     "execution_count": 98,
     "metadata": {},
     "output_type": "execute_result"
    }
   ],
   "source": [
    "type(one)"
   ]
  },
  {
   "cell_type": "code",
   "execution_count": 105,
   "id": "1b826575",
   "metadata": {},
   "outputs": [
    {
     "name": "stdout",
     "output_type": "stream",
     "text": [
      "You Understood everything ?: True\n"
     ]
    }
   ],
   "source": [
    "class_starts_at = 3\n",
    "you_came_at = 2\n",
    "you_understood_all_concepts = you_came_at < class_starts_at\n",
    "\n",
    "print(f\"You Understood everything ?: {you_understood_all_concepts}\")"
   ]
  },
  {
   "cell_type": "code",
   "execution_count": null,
   "id": "0ef9bfbc",
   "metadata": {},
   "outputs": [],
   "source": []
  }
 ],
 "metadata": {
  "kernelspec": {
   "display_name": "Python 3 (ipykernel)",
   "language": "python",
   "name": "python3"
  },
  "language_info": {
   "codemirror_mode": {
    "name": "ipython",
    "version": 3
   },
   "file_extension": ".py",
   "mimetype": "text/x-python",
   "name": "python",
   "nbconvert_exporter": "python",
   "pygments_lexer": "ipython3",
   "version": "3.9.12"
  }
 },
 "nbformat": 4,
 "nbformat_minor": 5
}
